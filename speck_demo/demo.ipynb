{
 "cells": [
  {
   "cell_type": "markdown",
   "id": "ab34e351-2d93-42a5-9548-db013a76d34f",
   "metadata": {},
   "source": [
    "# From NIR to SPECK\n",
    "\n",
    "In this notebook we will show how a NIR model can be deployed onto SynSense's Speck processor. \n",
    "\n",
    "We start by importing the model into sinabs and from there deploy it onto Speck. We will test the deployed model by streaming events onto the chip and reading out the predictions."
   ]
  },
  {
   "cell_type": "code",
   "execution_count": 1,
   "id": "9f5c775b-842c-47de-a094-6d9596f8af5d",
   "metadata": {},
   "outputs": [
    {
     "ename": "ModuleNotFoundError",
     "evalue": "No module named 'sinabs'",
     "output_type": "error",
     "traceback": [
      "\u001b[0;31m---------------------------------------------------------------------------\u001b[0m",
      "\u001b[0;31mModuleNotFoundError\u001b[0m                       Traceback (most recent call last)",
      "Cell \u001b[0;32mIn[1], line 2\u001b[0m\n\u001b[1;32m      1\u001b[0m \u001b[38;5;66;03m# Import statements\u001b[39;00m\n\u001b[0;32m----> 2\u001b[0m \u001b[38;5;28;01mimport\u001b[39;00m \u001b[38;5;21;01msinabs\u001b[39;00m\n\u001b[1;32m      3\u001b[0m \u001b[38;5;28;01mimport\u001b[39;00m \u001b[38;5;21;01mnir\u001b[39;00m\n",
      "\u001b[0;31mModuleNotFoundError\u001b[0m: No module named 'sinabs'"
     ]
    }
   ],
   "source": [
    "# Import statements\n",
    "import sinabs\n",
    "import nir"
   ]
  },
  {
   "cell_type": "markdown",
   "id": "9667da52-2972-44ad-814a-126a65f75eae",
   "metadata": {},
   "source": [
    "## Load NIR model from disk"
   ]
  },
  {
   "cell_type": "code",
   "execution_count": null,
   "id": "34f5a55e-3f3c-43d9-81ff-c538d8d06412",
   "metadata": {},
   "outputs": [],
   "source": [
    "model_path = \"nmnist_model.nir\"\n",
    "nir_model = ..."
   ]
  },
  {
   "cell_type": "markdown",
   "id": "fd2a6fdd-4666-48c5-9d2b-afedcf80e256",
   "metadata": {},
   "source": [
    "## Load NIR model into sinabs\n",
    "\n",
    "Loading a NIR model into sinabs is fairly easy: It's literally one line of code."
   ]
  },
  {
   "cell_type": "code",
   "execution_count": null,
   "id": "db347ac9-eade-4241-bee3-1b5fa4089e62",
   "metadata": {},
   "outputs": [],
   "source": [
    "model = sinabs.from_nir(nir_model, batch_size=1)"
   ]
  },
  {
   "cell_type": "markdown",
   "id": "ffaaf5af-bb8c-40dd-986d-79f330017ab4",
   "metadata": {},
   "source": [
    "### Test the model in software\n",
    "\n",
    "Let's quickly run the test set through the sinabs model to make sure everything works as it should."
   ]
  },
  {
   "cell_type": "code",
   "execution_count": null,
   "id": "951ab71d-45b1-4c56-99c1-bb46919f1809",
   "metadata": {},
   "outputs": [],
   "source": [
    "dataset = ...\n",
    "dataloader = torch.utils.data.Dataloader(dataset, batch_size=1)\n",
    "\n",
    "correct = 0\n",
    "for i, (sample, target) in tqdm(enumerate(dataloader)):\n",
    "    output = model(sample)\n",
    "    prediction = torch.argmax(output.sum(0))\n",
    "    correct += (prediction == target)\n",
    "\n",
    "accuracy = correct / len(dataset)\n",
    "print(f\"Test accuracy with sinabs model: {accuracy:.2%}\")"
   ]
  },
  {
   "cell_type": "markdown",
   "id": "74bb4980-b736-4af3-9e7b-a9282b18a18f",
   "metadata": {},
   "source": [
    "## Deploy the model onto Speck\n",
    "\n",
    "Deploying a model onto Speck with Sinabs is also straightforward:"
   ]
  },
  {
   "cell_type": "code",
   "execution_count": null,
   "id": "242fd7cf-6a84-4edf-8759-05045fbac129",
   "metadata": {},
   "outputs": [],
   "source": [
    "dynapcnn_model = sinabs.backend.dynapcnn.DynapcnnNetwork(model)\n",
    "dynapcnn_model.to(\"speck2fmodule\")"
   ]
  },
  {
   "cell_type": "markdown",
   "id": "91a7ec0a-ea84-4acc-aa6a-e54c435a2be6",
   "metadata": {},
   "source": [
    "## Send test data to the chip and read out its prediction\n",
    "Now the model that we imported from NIR has been deployed onto Speck and is ready to run. Let's see if it works."
   ]
  },
  {
   "cell_type": "code",
   "execution_count": null,
   "id": "3ec22e1c-3b33-44de-91bb-ba4ace586f49",
   "metadata": {},
   "outputs": [],
   "source": []
  }
 ],
 "metadata": {
  "kernelspec": {
   "display_name": "Python 3 (ipykernel)",
   "language": "python",
   "name": "python3"
  },
  "language_info": {
   "codemirror_mode": {
    "name": "ipython",
    "version": 3
   },
   "file_extension": ".py",
   "mimetype": "text/x-python",
   "name": "python",
   "nbconvert_exporter": "python",
   "pygments_lexer": "ipython3",
   "version": "3.10.8"
  }
 },
 "nbformat": 4,
 "nbformat_minor": 5
}
