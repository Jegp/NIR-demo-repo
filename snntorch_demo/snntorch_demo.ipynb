{
 "cells": [
  {
   "cell_type": "code",
   "execution_count": 13,
   "metadata": {},
   "outputs": [],
   "source": [
    "import json\n",
    "import numpy as np\n",
    "import snntorch as snn\n",
    "import argparse\n",
    "from snntorch import functional as SF\n",
    "from snntorch import surrogate\n",
    "import torch\n",
    "import torch.nn as nn\n",
    "from torch.utils.data import DataLoader\n",
    "import nir\n",
    "# NOTE: this requires snntorch/nir (PR) and nirtorch/master (unreleased)\n",
    "from snntorch import export_to_nir, import_from_nir"
   ]
  },
  {
   "cell_type": "code",
   "execution_count": 7,
   "metadata": {},
   "outputs": [],
   "source": [
    "def model_build(settings, input_size, num_steps, device, bias=True):\n",
    "    input_channels = int(input_size)\n",
    "    num_hidden = int(settings[\"nb_hidden\"])\n",
    "    num_outputs = 7\n",
    "    spike_grad = surrogate.fast_sigmoid(slope=int(settings[\"slope\"]))\n",
    "\n",
    "    class Net(nn.Module):\n",
    "        def __init__(self):\n",
    "            super().__init__()\n",
    "\n",
    "            self.fc1 = nn.Linear(input_channels, num_hidden, bias=bias)\n",
    "            self.lif1 = snn.RSynaptic(\n",
    "                alpha=settings[\"alpha_r\"],\n",
    "                beta=settings[\"beta_r\"],\n",
    "                linear_features=num_hidden,\n",
    "                spike_grad=spike_grad,\n",
    "                reset_mechanism=\"zero\",\n",
    "                reset_delay=False,\n",
    "            )\n",
    "            if not bias:\n",
    "                self.lif1.recurrent.bias = None\n",
    "            self.fc2 = nn.Linear(num_hidden, num_outputs, bias=bias)\n",
    "            self.lif2 = snn.Synaptic(\n",
    "                alpha=settings[\"alpha_out\"],\n",
    "                beta=settings[\"beta_out\"],\n",
    "                spike_grad=spike_grad,\n",
    "                reset_mechanism=\"zero\",\n",
    "                reset_delay=False,\n",
    "            )\n",
    "\n",
    "        def forward(self, x):\n",
    "            spk1, syn1, mem1 = self.lif1.init_rsynaptic()\n",
    "            syn2, mem2 = self.lif2.init_synaptic()\n",
    "\n",
    "            spk1_rec = []  # not necessarily needed for inference\n",
    "            spk2_rec = []\n",
    "\n",
    "            for step in range(num_steps):\n",
    "                cur1 = self.fc1(x[step])\n",
    "                spk1, syn1, mem1 = self.lif1(cur1, spk1, syn1, mem1)\n",
    "                cur2 = self.fc2(spk1)\n",
    "                spk2, syn2, mem2 = self.lif2(cur2, syn2, mem2)\n",
    "\n",
    "                spk1_rec.append(spk1)  # not necessarily needed for inference\n",
    "                spk2_rec.append(spk2)\n",
    "\n",
    "            return torch.stack(spk2_rec, dim=0), torch.stack(spk1_rec, dim=0)\n",
    "\n",
    "    return Net().to(device)\n",
    "\n",
    "\n",
    "def val_test_loop(\n",
    "    dataset,\n",
    "    batch_size,\n",
    "    net,\n",
    "    loss_fn,\n",
    "    device,\n",
    "    shuffle=True,\n",
    "    saved_state_dict=None,\n",
    "):\n",
    "    with torch.no_grad():\n",
    "        if saved_state_dict is not None:\n",
    "            net.load_state_dict(saved_state_dict)\n",
    "        net.eval()\n",
    "\n",
    "        loader = DataLoader(\n",
    "            dataset, batch_size=batch_size, shuffle=shuffle, drop_last=False\n",
    "        )\n",
    "\n",
    "        batch_loss = []\n",
    "        batch_acc = []\n",
    "\n",
    "        for data, labels in loader:\n",
    "            data = data.to(device).swapaxes(1, 0)\n",
    "            labels = labels.to(device)\n",
    "\n",
    "            spk_out, _ = net(data)\n",
    "\n",
    "            loss_val = loss_fn(spk_out, labels)\n",
    "            batch_loss.append(loss_val.detach().cpu().item())\n",
    "\n",
    "            act_total_out = torch.sum(spk_out, 0)  # sum over time\n",
    "            _, neuron_max_act_total_out = torch.max(act_total_out, 1)\n",
    "            batch_acc.extend((neuron_max_act_total_out == labels).detach().cpu().numpy())\n",
    "\n",
    "        return [np.mean(batch_loss), np.mean(batch_acc)]"
   ]
  },
  {
   "cell_type": "code",
   "execution_count": 9,
   "metadata": {},
   "outputs": [],
   "source": [
    "model_name = \"braille_checkpoint\"\n",
    "saved_state_dict_path = \"model_checkpoint.pt\"\n",
    "parameters_path = \"model_params.json\"\n",
    "\n",
    "# load pytorch model state dict\n",
    "device = torch.device(\"cpu\")\n",
    "best_val_layers = torch.load(saved_state_dict_path, map_location=device)\n",
    "\n",
    "# load model parameters from json\n",
    "with open(parameters_path) as f:\n",
    "    parameters = json.load(f)\n",
    "regularization = [parameters[\"reg_l1\"], parameters[\"reg_l2\"]]\n",
    "\n",
    "# data parameters\n",
    "batch_size = 4\n",
    "input_size = 12\n",
    "test_data_path = \"ds_test.pt\"\n",
    "ds_test = torch.load(test_data_path)\n",
    "num_steps = next(iter(ds_test))[0].shape[0]"
   ]
  },
  {
   "cell_type": "markdown",
   "metadata": {},
   "source": [
    "Build the initial snnTorch network, which was loaded from a checkpoint, and verify its test accuracy:"
   ]
  },
  {
   "cell_type": "code",
   "execution_count": 10,
   "metadata": {},
   "outputs": [
    {
     "name": "stdout",
     "output_type": "stream",
     "text": [
      "test accuracy: 90.0%\n"
     ]
    }
   ],
   "source": [
    "loss_fn = SF.ce_count_loss()\n",
    "net = model_build(parameters, input_size, num_steps, device, bias=False)\n",
    "test_results = val_test_loop(ds_test, batch_size, net, loss_fn, device,\n",
    "                             shuffle=False, saved_state_dict=best_val_layers)\n",
    "print(\"test accuracy: {}%\".format(np.round(test_results[1] * 100, 2)))"
   ]
  },
  {
   "cell_type": "markdown",
   "metadata": {},
   "source": [
    "Export the snnTorch network to NIR:"
   ]
  },
  {
   "cell_type": "code",
   "execution_count": 11,
   "metadata": {},
   "outputs": [
    {
     "name": "stderr",
     "output_type": "stream",
     "text": [
      "WARNING:root:removing self-connection ('lif1.lif', 'lif1.lif')\n"
     ]
    }
   ],
   "source": [
    "nir_graph = export_to_nir(net, ds_test[0][0], ignore_dims=[0])\n",
    "nir.write(f\"braille_{model_name}.nir\", nir_graph)"
   ]
  }
 ],
 "metadata": {
  "kernelspec": {
   "display_name": "Python 3 (ipykernel)",
   "language": "python",
   "name": "python3"
  },
  "language_info": {
   "codemirror_mode": {
    "name": "ipython",
    "version": 3
   },
   "file_extension": ".py",
   "mimetype": "text/x-python",
   "name": "python",
   "nbconvert_exporter": "python",
   "pygments_lexer": "ipython3",
   "version": "3.10.12"
  }
 },
 "nbformat": 4,
 "nbformat_minor": 4
}
